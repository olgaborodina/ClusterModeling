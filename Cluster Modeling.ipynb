{
 "cells": [
  {
   "cell_type": "code",
   "execution_count": 14,
   "metadata": {},
   "outputs": [],
   "source": [
    "import matplotlib.pyplot as plt\n",
    "import pandas as pd\n",
    "import numpy as np\n",
    "import math as m\n",
    "from scipy.interpolate import interp1d\n",
    "import scipy.optimize\n",
    "from random import random\n",
    "from scipy.optimize import curve_fit"
   ]
  },
  {
   "cell_type": "code",
   "execution_count": 55,
   "metadata": {},
   "outputs": [],
   "source": [
    "def to_lf (a, b, c, step, alpha): #get number of stars with definite magnitude\n",
    "    func = interp1d(a, b)\n",
    "    return func(c) * step * alpha\n",
    "\n",
    "def interp (a, b, c): #get mass of starS with definite magnitude\n",
    "    func = interp1d(a, b)\n",
    "    return func(c)\n",
    "\n",
    "def lummass (M): # Eker's function\n",
    "    return pow(10, (-0.705)*np.log10(M)**2 + 4.655*np.log10(M) - 0.025)\n",
    "\n",
    "def f(x, a, b):\n",
    "    return np.exp(x) * a + b\n",
    "\n",
    "def get_errors (data, err_name):\n",
    "    data['err_bin'] = pd.cut(bins=np.linspace(0, data['G, mag'].max(), 100), x=data['G, mag'])  # splitting interval\n",
    "    intervals = data.groupby('err_bin').apply(lambda df: df[err_name].quantile(0.68))\n",
    "    intervals.index = intervals.index.map(lambda x: x.mid)\n",
    "    intervals.dropna(inplace=True)\n",
    "    \n",
    "    popt, pcov = curve_fit(f, np.array(intervals.index.tolist()), np.array(intervals.tolist()))\n",
    "    #return pd.DataFrame(data = {err_name : f(data['G, mag'], *popt)})\n",
    "    return np.array(f(data['G, mag'], *popt))\n",
    "\n",
    "def neumann(data_1, data_2): #get q randomly from definite distribution\n",
    "    iter = True\n",
    "    while iter == True:\n",
    "        x, yr = random()*data_1.max(), random()\n",
    "        y = interp1d(data_1, data_2)\n",
    "        if x >= data_1.min() and yr <= y(x):\n",
    "            iter = False\n",
    "            return x\n",
    "        else:\n",
    "            iter = True\n",
    "            \n",
    "def make_cluster (data, mf):\n",
    "    _arr = []\n",
    "    for  i in range (0, len(data)):\n",
    "        _arr.append(neumann(mf['Mass'], mf['MF']))\n",
    "    return pd.DataFrame(data = {'Mass' : _arr})\n"
   ]
  },
  {
   "cell_type": "code",
   "execution_count": 42,
   "metadata": {},
   "outputs": [],
   "source": [
    "iso = pd.read_csv(\"NGC2516_isochrone_1.2e8.txt\", delimiter=' ')\n",
    "mf = pd.read_csv(\"NGC2516_Mass_function.txt\", delimiter=';')\n",
    "\n",
    "data_singles = pd.read_csv(\"NGC2516_100m_selected_parallax_0.2_pm_inRA_1.5_pm_inDEC_1.5_CMD_cutted_18.6811_CMD_separated_singles.txt\", delimiter=';', header = None)\n",
    "data_binaries = pd.read_csv(\"NGC2516_100m_selected_parallax_0.2_pm_inRA_1.5_pm_inDEC_1.5_CMD_cutted_18.6811_CMD_separated_binaries.txt\", delimiter=';', header = None)\n",
    "data_singles.rename(columns = {21 : 'BP-RP, mag', 15 : 'G, mag', 16: 'err_G', 18 : 'err_BP', 20 : 'err_RP'}, inplace=True)\n",
    "data_binaries.rename(columns = {21 : 'BP-RP, mag', 15 : 'G, mag', 16: 'err_G', 18 : 'err_BP', 20 : 'err_RP'}, inplace=True)"
   ]
  },
  {
   "cell_type": "code",
   "execution_count": 43,
   "metadata": {},
   "outputs": [],
   "source": [
    "cluster = make_cluster(data_singles, mf)\n",
    "#fig, ax = plt.subplots(figsize = (9, 7))\n",
    "#ax.hist(cluster['Mass'], bins=80, color = 'gray')"
   ]
  },
  {
   "cell_type": "code",
   "execution_count": 59,
   "metadata": {},
   "outputs": [],
   "source": [
    "cluster['G, mag'] = interp(iso['Mass'], iso['Gmag'], cluster['Mass'])\n",
    "cluster['BP-RP, mag'] = interp(iso['Mass'], iso[\"G_BPmag\"], cluster['Mass']) - to_mf(iso['Mass'], iso[\"G_RPmag\"], cluster['Mass']) "
   ]
  },
  {
   "cell_type": "code",
   "execution_count": 60,
   "metadata": {},
   "outputs": [],
   "source": [
    "cluster['G, mag'] += np.random.normal(loc=0.0, scale=get_errors(data_singles, 'err_G'))\n",
    "cluster['BP-RP, mag'] +=np.random.normal(loc=0.0, scale=get_errors(data_singles, 'err_BP'))\n",
    "cluster['BP-RP, mag'] +=np.random.normal(loc=0.0, scale=get_errors(data_singles, 'err_RP'))"
   ]
  },
  {
   "cell_type": "code",
   "execution_count": 58,
   "metadata": {},
   "outputs": [],
   "source": [
    "binaries = make_cluster(data_binaries, mf)"
   ]
  },
  {
   "cell_type": "code",
   "execution_count": 61,
   "metadata": {},
   "outputs": [],
   "source": [
    "in_file_q = \"func_gauss.txt\"\n",
    "data_q = pd.read_csv(in_file_q, delimiter=' ', header=None, names = ['q','F'])"
   ]
  },
  {
   "cell_type": "code",
   "execution_count": 62,
   "metadata": {},
   "outputs": [],
   "source": [
    "binaries.columns=['Mass1']"
   ]
  },
  {
   "cell_type": "code",
   "execution_count": 63,
   "metadata": {},
   "outputs": [],
   "source": [
    "binaries['Mass2'] = binaries['Mass1'] * np.fromiter((neumann(data_q['q'], data_q['F']) for x in range(len(binaries))), float)"
   ]
  },
  {
   "cell_type": "code",
   "execution_count": 64,
   "metadata": {},
   "outputs": [
    {
     "data": {
      "text/plain": [
       "0.43056292356491804"
      ]
     },
     "execution_count": 64,
     "metadata": {},
     "output_type": "execute_result"
    }
   ],
   "source": [
    "binaries['Mass1'].min()"
   ]
  },
  {
   "cell_type": "code",
   "execution_count": 65,
   "metadata": {},
   "outputs": [
    {
     "data": {
      "text/plain": [
       "0.09"
      ]
     },
     "execution_count": 65,
     "metadata": {},
     "output_type": "execute_result"
    }
   ],
   "source": [
    "binaries['Mass2'][binaries['Mass2'] < iso['Mass'].min()] = iso['Mass'].min()\n",
    "binaries['Mass2'].min() "
   ]
  },
  {
   "cell_type": "code",
   "execution_count": 66,
   "metadata": {},
   "outputs": [],
   "source": [
    "binaries['G1, mag'] = interp(iso['Mass'], iso['Gmag'], binaries['Mass1'])\n",
    "binaries['BP1, mag'] = interp(iso['Mass'], iso[\"G_BPmag\"],  binaries['Mass1'])\n",
    "binaries['RP1, mag'] = interp(iso['Mass'], iso[\"G_RPmag\"],  binaries['Mass1'])\n",
    "\n",
    "binaries['G2, mag'] = interp(iso['Mass'], iso['Gmag'], binaries['Mass2'])\n",
    "binaries['BP2, mag'] = interp(iso['Mass'], iso[\"G_BPmag\"],  binaries['Mass2'])\n",
    "binaries['RP2, mag'] = interp(iso['Mass'], iso[\"G_RPmag\"],  binaries['Mass2'])"
   ]
  },
  {
   "cell_type": "code",
   "execution_count": 67,
   "metadata": {},
   "outputs": [],
   "source": [
    "binaries['G, mag'] = binaries['G2, mag'] - 2.5 *np.log10(1+ pow(2.512, binaries['G2, mag'] - binaries['G1, mag']))\n",
    "binaries['BP-RP, mag'] = binaries['BP2, mag'] - 2.5 *np.log10(1+ pow(2.512, binaries['BP2, mag'] - binaries['BP1, mag'])) - (binaries['RP2, mag'] - 2.5 *np.log10(1+ pow(2.512, binaries['RP2, mag'] - binaries['RP1, mag'])))"
   ]
  },
  {
   "cell_type": "code",
   "execution_count": 68,
   "metadata": {},
   "outputs": [
    {
     "data": {
      "image/png": "[encoded data removed]",
      "text/plain": [
       "<Figure size 720x576 with 1 Axes>"
      ]
     },
     "metadata": {},
     "output_type": "display_data"
    }
   ],
   "source": [
    "fig, ax = plt.subplots(figsize=(10,8 )) #16:14\n",
    "ax.scatter (cluster['BP-RP, mag']  +3.1*0.13*(1.2 - 0.65) , cluster['G, mag'] + 5 * np.log10(410) - 5 + 3.1*0.13*0.86,facecolor='white', edgecolor='black', s = 3)\n",
    "ax.scatter (binaries['BP-RP, mag']  +3.1*0.13*(1.2 - 0.65), binaries['G, mag']  + 5 * np.log10(410) - 5 + 3.1*0.13*0.86, c ='red', s = 3)\n",
    "ax.invert_yaxis()\n",
    "ax.grid(c='#aaaaaa', ls='--')\n",
    "plt.xlabel('BP-RP, mag', size = 15)\n",
    "plt.yticks(np.arange(6,19, step=1.0))\n",
    "plt.ylabel('G, mag', size = 15)\n",
    "plt.savefig(\"NGC2516_model.png\")"
   ]
  },
  {
   "cell_type": "code",
   "execution_count": null,
   "metadata": {},
   "outputs": [],
   "source": []
  }
 ],
 "metadata": {
  "kernelspec": {
   "display_name": "Python 3",
   "language": "python",
   "name": "python3"
  },
  "language_info": {
   "codemirror_mode": {
    "name": "ipython",
    "version": 3
   },
   "file_extension": ".py",
   "mimetype": "text/x-python",
   "name": "python",
   "nbconvert_exporter": "python",
   "pygments_lexer": "ipython3",
   "version": "3.6.5"
  }
 },
 "nbformat": 4,
 "nbformat_minor": 2
}
