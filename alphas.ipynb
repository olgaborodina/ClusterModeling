{
 "cells": [
  {
   "cell_type": "code",
   "execution_count": 1,
   "metadata": {},
   "outputs": [],
   "source": [
    "import matplotlib.pyplot as plt\n",
    "import pandas as pd\n",
    "import numpy as np\n",
    "\n",
    "from scipy.optimize import curve_fit\n",
    "Numx, Numy, x_name,y_name, name= 21, 15, 'BP-RP, mag','G, mag','alpha'"
   ]
  },
  {
   "cell_type": "code",
   "execution_count": 2,
   "metadata": {},
   "outputs": [],
   "source": [
    "def reading(file):\n",
    "    data = pd.read_csv(file, delimiter=';', header=None)\n",
    "    data.rename(columns = {Numx : x_name, Numy : y_name}, inplace=True)\n",
    "    data = data.apply(pd.to_numeric, errors='coerce')\n",
    "    data.index = pd.RangeIndex(len(data.index))\n",
    "    return data"
   ]
  },
  {
   "cell_type": "code",
   "execution_count": 3,
   "metadata": {},
   "outputs": [],
   "source": [
    "data_singles = reading('NGC2516_100m_selected_parallax_0.2_pm_inRA_1.5_pm_inDEC_1.5_CMD_cutted_18.6811_CMD_separated_singles.txt')    \n",
    "data_binaries = reading ('NGC2516_100m_selected_parallax_0.2_pm_inRA_1.5_pm_inDEC_1.5_CMD_cutted_18.6811_CMD_separated_binaries.txt')\n",
    "data_singles = data_singles[data_singles['G, mag']<=18]\n",
    "data_binaries = data_binaries[data_binaries['G, mag']<=18]"
   ]
  },
  {
   "cell_type": "code",
   "execution_count": 4,
   "metadata": {},
   "outputs": [],
   "source": [
    "delta = 15"
   ]
  },
  {
   "cell_type": "code",
   "execution_count": 5,
   "metadata": {},
   "outputs": [],
   "source": [
    "# fix start point!!!\n",
    "data_singles['bin'] = pd.cut(bins=np.linspace(data_binaries['G, mag'].min(), data_singles['G, mag'].max() , delta + 1), x=data_singles['G, mag'],include_lowest=True) \n",
    "data_binaries['bin'] = pd.cut(bins=np.linspace(data_binaries['G, mag'].min(), data_singles['G, mag'].max() , delta + 1), x=data_binaries['G, mag'],include_lowest=True) "
   ]
  },
  {
   "cell_type": "code",
   "execution_count": 6,
   "metadata": {},
   "outputs": [],
   "source": [
    "step = (data_singles['G, mag'].max() - data_singles['G, mag'].min()) / delta\n",
    "alpha = pd.DataFrame(data = {'G, mag' : np.linspace(data_binaries['G, mag'].min(), data_singles['G, mag'].max(), num = delta + 1, dtype=None)+step/2}).drop(delta)\n",
    "alpha['alpha'] = data_binaries.groupby('bin')['G, mag'].count().get_values()/(data_singles.groupby('bin')['G, mag'].count().get_values() + data_binaries.groupby('bin')['G, mag'].count().get_values())"
   ]
  },
  {
   "cell_type": "code",
   "execution_count": 7,
   "metadata": {},
   "outputs": [],
   "source": [
    "def f(x, a, b, c, d):\n",
    "    return a * x**3 + b * x**2 + c * x + d"
   ]
  },
  {
   "cell_type": "code",
   "execution_count": 8,
   "metadata": {},
   "outputs": [],
   "source": [
    "popt, pcov = curve_fit(f, alpha['G, mag'], alpha['alpha'])\n"
   ]
  },
  {
   "cell_type": "code",
   "execution_count": 9,
   "metadata": {},
   "outputs": [
    {
     "data": {
      "text/plain": [
       "array([-1.17272640e-03,  5.66931188e-02, -8.79953611e-01,  4.55435800e+00])"
      ]
     },
     "execution_count": 9,
     "metadata": {},
     "output_type": "execute_result"
    }
   ],
   "source": [
    "popt"
   ]
  },
  {
   "cell_type": "code",
   "execution_count": null,
   "metadata": {},
   "outputs": [],
   "source": []
  },
  {
   "cell_type": "code",
   "execution_count": 24,
   "metadata": {},
   "outputs": [
    {
     "data": {
      "image/png": "[encoded data removed]",
      "text/plain": [
       "<Figure size 504x288 with 1 Axes>"
      ]
     },
     "metadata": {
      "needs_background": "light"
     },
     "output_type": "display_data"
    }
   ],
   "source": [
    "fig, ax = plt.subplots(figsize=(7,4))\n",
    "\n",
    "plt.rcParams.update({'font.size': 12})\n",
    "plt.rc('text', usetex=True)\n",
    "plt.rc('font', family='serif')\n",
    "\n",
    "ax.scatter(alpha['G, mag'] , alpha['alpha'] , c ='black', s=30)\n",
    "ax.plot(np.linspace(data_binaries['G, mag'].min(), data_singles['G, mag'].max(), num = 100), f(np.linspace(data_binaries['G, mag'].min(), data_singles['G, mag'].max(), num = 100), *popt), c = 'red', lw = 2)\n",
    "ax.grid(c='#aaaaaa', ls='--') \n",
    "locs, labels = plt.yticks()\n",
    "locs, labels = plt.xticks()\n",
    "plt.xlabel(r\"G, mag\", labelpad=8)\n",
    "plt.ylabel(r\"$\\alpha$\", labelpad=8)\n",
    "ax.tick_params(axis='both', which='major')\n",
    "plt.savefig(\"alpha_dist.pdf\", dpi = 200, bbox_inches = 'tight')"
   ]
  },
  {
   "cell_type": "code",
   "execution_count": 57,
   "metadata": {},
   "outputs": [
    {
     "data": {
      "text/plain": [
       "array([-1.18173817e-03,  5.70107747e-02, -8.83567296e-01,  4.56760440e+00])"
      ]
     },
     "execution_count": 57,
     "metadata": {},
     "output_type": "execute_result"
    }
   ],
   "source": [
    "popt"
   ]
  },
  {
   "cell_type": "code",
   "execution_count": 58,
   "metadata": {},
   "outputs": [
    {
     "data": {
      "text/plain": [
       "0.23854260236180463"
      ]
     },
     "execution_count": 58,
     "metadata": {},
     "output_type": "execute_result"
    }
   ],
   "source": [
    "alpha['alpha'].mean()"
   ]
  }
 ],
 "metadata": {
  "kernelspec": {
   "display_name": "Python 3",
   "language": "python",
   "name": "python3"
  },
  "language_info": {
   "codemirror_mode": {
    "name": "ipython",
    "version": 3
   },
   "file_extension": ".py",
   "mimetype": "text/x-python",
   "name": "python",
   "nbconvert_exporter": "python",
   "pygments_lexer": "ipython3",
   "version": "3.7.2"
  }
 },
 "nbformat": 4,
 "nbformat_minor": 2
}
